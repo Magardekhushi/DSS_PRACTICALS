{
 "cells": [
  {
   "cell_type": "markdown",
   "id": "5009a076-e9cf-467c-aaba-8ef52bb936c2",
   "metadata": {},
   "source": [
    "# CENTRAL TENDANCY OF MEASURES\n",
    "# [MEAN,MEDIAN,MODE]"
   ]
  },
  {
   "cell_type": "code",
   "execution_count": 2,
   "id": "a7fd2856-0707-41fe-8c0a-36f2843aa9f3",
   "metadata": {},
   "outputs": [],
   "source": [
    "#EXPERIMENT NO.08"
   ]
  },
  {
   "cell_type": "code",
   "execution_count": 4,
   "id": "1700cee4-be81-45fe-a52a-0c6e5fc79405",
   "metadata": {},
   "outputs": [],
   "source": [
    "#Aim: To perform operation Central Tendancy of Measures[Mean,Median,Mode]"
   ]
  },
  {
   "cell_type": "code",
   "execution_count": 1,
   "id": "b28a39b9-edb7-46fb-900e-a15c9f31a1b7",
   "metadata": {},
   "outputs": [],
   "source": [
    "#Name: KHUSHI AJAY MAGARDE\n",
    "#Roll No: 14\n",
    "#Class: CSE, 3B\n",
    "#Subject:ET - 1\n",
    "#Date: 06.09.2024"
   ]
  },
  {
   "cell_type": "code",
   "execution_count": 13,
   "id": "565d2c00-3dad-436f-8c44-2d0041271b10",
   "metadata": {},
   "outputs": [
    {
     "data": {
      "text/plain": [
       "[21,\n",
       " 19,\n",
       " 19,\n",
       " 19,\n",
       " 19,\n",
       " 19,\n",
       " 20,\n",
       " 20,\n",
       " 20,\n",
       " 20,\n",
       " 20,\n",
       " 21,\n",
       " 22,\n",
       " 22,\n",
       " 22,\n",
       " 23,\n",
       " 25,\n",
       " 24,\n",
       " 22,\n",
       " 22,\n",
       " 22,\n",
       " 22,\n",
       " 24,\n",
       " 24,\n",
       " 24,\n",
       " 24,\n",
       " 24,\n",
       " 21,\n",
       " 21]"
      ]
     },
     "execution_count": 13,
     "metadata": {},
     "output_type": "execute_result"
    }
   ],
   "source": [
    "Age=[21,19,19,19,19,19,20,20,20,20,20,21,22,22,22,23,25,24,22,22,22,22,24,24,24,24,24,21,21]\n",
    "Age"
   ]
  },
  {
   "cell_type": "raw",
   "id": "ccf3762d-2896-4a1a-88f6-22d7f41cd775",
   "metadata": {},
   "source": []
  },
  {
   "cell_type": "code",
   "execution_count": 23,
   "id": "e01a4839-bff8-464d-8f82-14046ff24d17",
   "metadata": {},
   "outputs": [],
   "source": [
    "import statistics"
   ]
  },
  {
   "cell_type": "code",
   "execution_count": 27,
   "id": "c3f6bf8e-150e-47c8-9f65-1d8507fcbe00",
   "metadata": {},
   "outputs": [
    {
     "data": {
      "text/plain": [
       "21.551724137931036"
      ]
     },
     "execution_count": 27,
     "metadata": {},
     "output_type": "execute_result"
    }
   ],
   "source": [
    "MEAN=statistics.mean(Age)\n",
    "MEAN"
   ]
  },
  {
   "cell_type": "code",
   "execution_count": 29,
   "id": "0c2f70ab-5060-43d6-8ef7-94e02d36c0b5",
   "metadata": {},
   "outputs": [
    {
     "data": {
      "text/plain": [
       "22"
      ]
     },
     "execution_count": 29,
     "metadata": {},
     "output_type": "execute_result"
    }
   ],
   "source": [
    "MEDIAN=statistics.median(Age)\n",
    "MEDIAN"
   ]
  },
  {
   "cell_type": "code",
   "execution_count": 31,
   "id": "3347977c-dfe6-48ef-9709-5320d49ace4c",
   "metadata": {},
   "outputs": [
    {
     "data": {
      "text/plain": [
       "22"
      ]
     },
     "execution_count": 31,
     "metadata": {},
     "output_type": "execute_result"
    }
   ],
   "source": [
    "MODE=statistics.mode(Age)\n",
    "MODE"
   ]
  },
  {
   "cell_type": "code",
   "execution_count": null,
   "id": "118948d9-b0a2-4323-a929-ccc6242c9350",
   "metadata": {},
   "outputs": [],
   "source": []
  }
 ],
 "metadata": {
  "kernelspec": {
   "display_name": "Python 3 (ipykernel)",
   "language": "python",
   "name": "python3"
  },
  "language_info": {
   "codemirror_mode": {
    "name": "ipython",
    "version": 3
   },
   "file_extension": ".py",
   "mimetype": "text/x-python",
   "name": "python",
   "nbconvert_exporter": "python",
   "pygments_lexer": "ipython3",
   "version": "3.12.4"
  }
 },
 "nbformat": 4,
 "nbformat_minor": 5
}
