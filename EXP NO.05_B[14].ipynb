{
 "cells": [
  {
   "cell_type": "markdown",
   "id": "3893709f-65be-42da-83d3-b6c003462a0f",
   "metadata": {},
   "source": [
    "# CREATION OF ARRAY USING NUMPY"
   ]
  },
  {
   "cell_type": "code",
   "execution_count": 1,
   "id": "ad0175f5-d2cb-41d2-8ab6-8b4cc887229d",
   "metadata": {},
   "outputs": [],
   "source": [
    "#EXPERIMENT NO.05"
   ]
  },
  {
   "cell_type": "code",
   "execution_count": 3,
   "id": "ca2e8d18-858d-4082-a39f-a07b157abcc3",
   "metadata": {},
   "outputs": [],
   "source": [
    "#Aim: To perform operation Creation of Array using Numpy"
   ]
  },
  {
   "cell_type": "code",
   "execution_count": 1,
   "id": "d9cd80d4-a8e0-40dd-b922-62454c865b4c",
   "metadata": {},
   "outputs": [],
   "source": [
    "#Name: KHUSHI AJAY MAGARDE\n",
    "#Roll No: 14\n",
    "#Class: CSE, 3B\n",
    "#Subject:ET - 1\n",
    "#Date: 02.08.2024"
   ]
  },
  {
   "cell_type": "code",
   "execution_count": 3,
   "id": "8e8c02bc-1253-4731-8f85-cc00eb4f8b14",
   "metadata": {},
   "outputs": [],
   "source": [
    "import numpy as np"
   ]
  },
  {
   "cell_type": "code",
   "execution_count": 9,
   "id": "ebea8d16-c16b-463c-ab44-ff5cd671cab5",
   "metadata": {},
   "outputs": [],
   "source": [
    "k1=np.array([10,20,30,40,50,60,70,80])"
   ]
  },
  {
   "cell_type": "code",
   "execution_count": 7,
   "id": "8db433a1-4a62-4087-9170-50f487acc8f8",
   "metadata": {},
   "outputs": [
    {
     "data": {
      "text/plain": [
       "array([10, 20, 30, 40, 50, 60, 70, 80])"
      ]
     },
     "execution_count": 7,
     "metadata": {},
     "output_type": "execute_result"
    }
   ],
   "source": [
    "k1"
   ]
  },
  {
   "cell_type": "code",
   "execution_count": 13,
   "id": "5214e505-7742-4661-8741-606947dc4f48",
   "metadata": {},
   "outputs": [],
   "source": [
    "k2=np.array([[10,20,30,40],[60,70,80,90]])"
   ]
  },
  {
   "cell_type": "code",
   "execution_count": 15,
   "id": "0741a196-b655-4c04-9eca-2133fa26e449",
   "metadata": {},
   "outputs": [
    {
     "data": {
      "text/plain": [
       "array([[10, 20, 30, 40],\n",
       "       [60, 70, 80, 90]])"
      ]
     },
     "execution_count": 15,
     "metadata": {},
     "output_type": "execute_result"
    }
   ],
   "source": [
    "k2"
   ]
  },
  {
   "cell_type": "code",
   "execution_count": 17,
   "id": "6e7882db-bde3-4ec6-9887-8032b5705051",
   "metadata": {},
   "outputs": [],
   "source": [
    "k3=np.array([['K1','K2'],['ABC','PQR'],[22,88]])"
   ]
  },
  {
   "cell_type": "code",
   "execution_count": 19,
   "id": "7a685d72-acc8-45d5-bbc0-50dbcc904877",
   "metadata": {},
   "outputs": [
    {
     "data": {
      "text/plain": [
       "array([['K1', 'K2'],\n",
       "       ['ABC', 'PQR'],\n",
       "       ['22', '88']], dtype='<U11')"
      ]
     },
     "execution_count": 19,
     "metadata": {},
     "output_type": "execute_result"
    }
   ],
   "source": [
    "k3"
   ]
  },
  {
   "cell_type": "code",
   "execution_count": 29,
   "id": "e3433413-1d64-4e4b-93f4-cf784ba1519d",
   "metadata": {},
   "outputs": [],
   "source": [
    "k=('KHUSHI')"
   ]
  },
  {
   "cell_type": "code",
   "execution_count": 31,
   "id": "d198c546-36d1-4bf4-9f1e-7064b2fe1842",
   "metadata": {},
   "outputs": [
    {
     "data": {
      "text/plain": [
       "'KHUSHI'"
      ]
     },
     "execution_count": 31,
     "metadata": {},
     "output_type": "execute_result"
    }
   ],
   "source": [
    "k"
   ]
  },
  {
   "cell_type": "code",
   "execution_count": 33,
   "id": "649f829c-f603-478f-a50a-6ac94f7559bc",
   "metadata": {},
   "outputs": [
    {
     "data": {
      "text/plain": [
       "str"
      ]
     },
     "execution_count": 33,
     "metadata": {},
     "output_type": "execute_result"
    }
   ],
   "source": [
    "type(k)"
   ]
  },
  {
   "cell_type": "code",
   "execution_count": 43,
   "id": "9ba9b3aa-e427-46d2-a07f-04363501cd3d",
   "metadata": {},
   "outputs": [
    {
     "data": {
      "text/plain": [
       "'K'"
      ]
     },
     "execution_count": 43,
     "metadata": {},
     "output_type": "execute_result"
    }
   ],
   "source": [
    "k[0]"
   ]
  },
  {
   "cell_type": "code",
   "execution_count": 49,
   "id": "d266c8d1-983e-46dc-a8a3-8f8a255a9978",
   "metadata": {},
   "outputs": [
    {
     "data": {
      "text/plain": [
       "array([1, 2, 3, 4, 5, 6, 7, 8, 9])"
      ]
     },
     "execution_count": 49,
     "metadata": {},
     "output_type": "execute_result"
    }
   ],
   "source": [
    "k=np.arange(1,10)\n",
    "k"
   ]
  },
  {
   "cell_type": "code",
   "execution_count": 51,
   "id": "b71743e7-d719-4b02-9a49-5515b035a9f5",
   "metadata": {},
   "outputs": [
    {
     "data": {
      "text/plain": [
       "array([1, 3, 5, 7, 9])"
      ]
     },
     "execution_count": 51,
     "metadata": {},
     "output_type": "execute_result"
    }
   ],
   "source": [
    "k=np.arange(1,10,2)\n",
    "k"
   ]
  },
  {
   "cell_type": "code",
   "execution_count": 57,
   "id": "756d1d6a-6afa-4640-99c0-8398bb352a2c",
   "metadata": {},
   "outputs": [
    {
     "data": {
      "text/plain": [
       "array([ 2,  6, 10, 14, 18])"
      ]
     },
     "execution_count": 57,
     "metadata": {},
     "output_type": "execute_result"
    }
   ],
   "source": [
    "y=k*2\n",
    "y"
   ]
  },
  {
   "cell_type": "code",
   "execution_count": null,
   "id": "39274506-bae4-44c0-ae9a-e9b622f38ea7",
   "metadata": {},
   "outputs": [],
   "source": []
  }
 ],
 "metadata": {
  "kernelspec": {
   "display_name": "Python 3 (ipykernel)",
   "language": "python",
   "name": "python3"
  },
  "language_info": {
   "codemirror_mode": {
    "name": "ipython",
    "version": 3
   },
   "file_extension": ".py",
   "mimetype": "text/x-python",
   "name": "python",
   "nbconvert_exporter": "python",
   "pygments_lexer": "ipython3",
   "version": "3.12.4"
  }
 },
 "nbformat": 4,
 "nbformat_minor": 5
}
